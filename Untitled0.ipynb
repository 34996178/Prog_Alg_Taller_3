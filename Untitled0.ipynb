{
  "nbformat": 4,
  "nbformat_minor": 0,
  "metadata": {
    "colab": {
      "provenance": [],
      "authorship_tag": "ABX9TyPYaPKt/TN24zBEjaIDad20",
      "include_colab_link": true
    },
    "kernelspec": {
      "name": "python3",
      "display_name": "Python 3"
    },
    "language_info": {
      "name": "python"
    }
  },
  "cells": [
    {
      "cell_type": "markdown",
      "metadata": {
        "id": "view-in-github",
        "colab_type": "text"
      },
      "source": [
        "<a href=\"https://colab.research.google.com/github/34996178/Prog_Alg_Taller_3/blob/main/Untitled0.ipynb\" target=\"_parent\"><img src=\"https://colab.research.google.com/assets/colab-badge.svg\" alt=\"Open In Colab\"/></a>"
      ]
    },
    {
      "cell_type": "code",
      "execution_count": null,
      "metadata": {
        "id": "RYzOp1LP0Kx3"
      },
      "outputs": [],
      "source": []
    },
    {
      "cell_type": "markdown",
      "source": [
        "Taller 3 sintaxis Basica de Python\n",
        "\n",
        "Ana Rodriguez -000502314 -Ana.rodriguez@upb.edu.co\n",
        "Ivan Miranda -000405236 -Ivan.miranda@upb.edu.co\n",
        "\n",
        "problema 1. Calcular y mostrar la posicion de una particula que experimenta moviento uniformemente acelerado a partir de su posicion inicial (x0), velocidad inicial (v0) y acaelaracion en dos instantes de tiempo diferentes. la posicion de un instante de tiempo esta dada por x=x0+v0t+1/2at**2"
      ],
      "metadata": {
        "id": "ofA_08Hq0Mx6"
      }
    },
    {
      "cell_type": "code",
      "source": [
        "#Calculas la posicion final de una particula.\n",
        "\n",
        "x0 = float(input(\"digite la posicion inicial:\"))\n",
        "v0 = float(input(\"digite la velocidad inicial:\"))\n",
        "t = float (input(\"digite el tiempo:\"))\n",
        "a = float (input(\"digite la asceleracion:\"))\n",
        "\n",
        "x = x0 + v0*t + 1/2*a*(t**2)\n",
        "\n",
        "\n",
        "print (\"la posicion de la particula es: \",x, \"m\")\n"
      ],
      "metadata": {
        "colab": {
          "base_uri": "https://localhost:8080/"
        },
        "id": "T8Hc8Ysl0QXd",
        "outputId": "aff456cf-dcce-4416-8c57-3d5c7682794b"
      },
      "execution_count": 1,
      "outputs": [
        {
          "output_type": "stream",
          "name": "stdout",
          "text": [
            "digite la posicion inicial:10\n",
            "digite la velocidad inicial:15\n",
            "digite el tiempo:5\n",
            "digite la asceleracion:8\n",
            "la posicion de la particula es:  185.0 m\n"
          ]
        }
      ]
    },
    {
      "cell_type": "code",
      "source": [],
      "metadata": {
        "id": "txKOkIma0WAH"
      },
      "execution_count": 1,
      "outputs": []
    },
    {
      "cell_type": "markdown",
      "source": [
        "Calcular y mostrar la distancia entre dos puntos p1y p2 ubicados en las coordenadas (𝑥1,𝑦1) y (𝑥2,𝑦2). La distancia euclidiana se calcula con la ecuación:𝑑 =√((𝑥2 − 𝑥1)^2+(𝑦2 − 𝑦1)^2)"
      ],
      "metadata": {
        "id": "osAnolHe0qed"
      }
    },
    {
      "cell_type": "code",
      "source": [
        "x1 = float(input(\"Escriba la posicion del primer punto en x: \"))\n",
        "x2 = float(input(\"Escriba la posicion del primer punto en y: \"))\n",
        "\n",
        "y1 = float(input(\"Escriba la posicion del segundo punto en x: \"))\n",
        "y2 = float(input(\"Escriba la posicion del segundo punto en y: \"))\n",
        "\n",
        "print(\"x1 = \",x1)\n",
        "print(\"y1 = \",y1)\n",
        "print(\"x2 = \",x2)\n",
        "print(\"y2 = \",y2)\n",
        "d= ( ((x2-x1))**2 + ((y2-y1))**2)** 0.5\n",
        "\n",
        "print (\"la distancia entre los dos puntos es: \",d, \"m\")\n"
      ],
      "metadata": {
        "colab": {
          "base_uri": "https://localhost:8080/"
        },
        "id": "alGQx_mf1rwR",
        "outputId": "5bc3a555-b2a9-48a8-b6cd-466868b546c2"
      },
      "execution_count": 21,
      "outputs": [
        {
          "output_type": "stream",
          "name": "stdout",
          "text": [
            "Escriba la posicion del primer punto en x: 2\n",
            "Escriba la posicion del primer punto en y: 4\n",
            "Escriba la posicion del segundo punto en x: 6\n",
            "Escriba la posicion del segundo punto en y: 8\n",
            "x1 =  2.0\n",
            "y1 =  6.0\n",
            "x2 =  4.0\n",
            "y2 =  8.0\n",
            "la distancia entre los dos puntos es:  2.8284271247461903 m\n"
          ]
        }
      ]
    },
    {
      "cell_type": "code",
      "source": [
        "\n",
        "\n",
        "\n",
        "\n"
      ],
      "metadata": {
        "id": "mGE0-b0e2lmp"
      },
      "execution_count": null,
      "outputs": []
    },
    {
      "cell_type": "markdown",
      "source": [
        "Calcular y mostrarel valor del volumen de un cilindro cuyo radio y altura sean ingresados por el usuario.\n",
        "El volumen de un cilindro está dado por:𝑉=𝜋𝑟**2ℎDonde 𝜋=3.141592, 𝑟 es el radio y ℎ la altura.\n"
      ],
      "metadata": {
        "id": "9CIvIove454l"
      }
    },
    {
      "cell_type": "code",
      "source": [
        "#calculo del volumen del cilindro\n",
        "\n",
        "pi= 3.141592\n",
        "r= float(input(\"escriba el radio del cilindro(x):\"))\n",
        "h= float(input(\"escriba la altura del cilindro(x):\",))\n",
        "v=pi*(r**2)*h\n",
        "print (\" ,\")\n",
        "print (\" ,\")\n",
        "print (\" ,\")\n",
        "print (\"El volumen del cilindro es: \",v,(\"x**3\"))\n",
        "\n"
      ],
      "metadata": {
        "colab": {
          "base_uri": "https://localhost:8080/"
        },
        "id": "cAiMZKIA5LFh",
        "outputId": "b90ebd76-6ab6-40f2-a6ec-6ec3a90c4dd4"
      },
      "execution_count": 20,
      "outputs": [
        {
          "output_type": "stream",
          "name": "stdout",
          "text": [
            "escriba el radio del cilindro(x):3\n",
            "escriba la altura del cilindro(x):3\n",
            " ,\n",
            " ,\n",
            " ,\n",
            "El volumen del cilindro es:  84.822984 x**3\n"
          ]
        }
      ]
    },
    {
      "cell_type": "code",
      "source": [],
      "metadata": {
        "id": "J6ZYR-nS6bP3"
      },
      "execution_count": null,
      "outputs": []
    },
    {
      "cell_type": "markdown",
      "source": [
        "problema 4. Calcular y mostrar el resultado de las siguientes operaciones lógicas:\n",
        "\n",
        "1.A > By B > D\n",
        "\n",
        "2.B <=Co C < D\n",
        "\n",
        "3.A = B y B > C\n",
        "\n",
        "4.A < C o B < C\n",
        "\n",
        "5.A + D < Cy B > 5\n",
        "\n",
        "6.D –C >= -A*B\n",
        ">\n",
        "7.D * C ==5 o C * A > 98.A * B + C> -D * 10"
      ],
      "metadata": {
        "id": "JRCLiBxx6k0f"
      }
    },
    {
      "cell_type": "code",
      "source": [
        "#calcular y mostrar el resultado de las siguientes operaciones\n",
        "\n",
        "A=float(input(\"ingrese el primer numero decimal:\"))\n",
        "B=float(input(\"ingrese el segundo numero decimal:\"))\n",
        "C=float(input(\"ingrese el tercer numero decimal:\"))\n",
        "D=float(input(\"ingrese el cuarto numero decimal:\"))\n",
        "print(\" \")\n",
        "\n",
        "r1=((A > B)and (B > D))\n",
        "print (\"esto (A > B y B > D) es \", r1)\n",
        "print(\" \")\n",
        "\n",
        "r2=((B <= C) or (C < D))\n",
        "print(\"esto (B <= C o C < D) es\", r2)\n",
        "print(\" \")\n",
        "\n",
        "r3=((A == B) and (B > C))\n",
        "print(\" esto (A = B y B > C) es\", r3)\n",
        "print(\" \")\n",
        "\n",
        "r4=((A < C) or (B < C))\n",
        "print(\"esto (A < C o B < C) es\", r4)\n",
        "print(\" \")\n",
        "\n",
        "r5= ((A + D) < (C) and (B > 5))\n",
        "print(\" esto es (A + D < C y B > 5) es\", r5)\n",
        "print(\" \")\n",
        "\n",
        "r6= ((D - C) >= (-A * B))\n",
        "print( \"esto (D - C >= -A * B) es\", r6)\n",
        "print (\" \")\n",
        "\n",
        "r7= ((D * C) == (5) or ( C * A > 9))\n",
        "print(\" esto (D * C == 5 o C * A > 9) es\", r7)\n",
        "print(\" \")\n",
        "\n",
        "r8= ((A * B + C) > (-D * 10))\n",
        "print(\"esto (A * B + C > -D * 10)es\", r8)\n",
        "print(\" \")\n"
      ],
      "metadata": {
        "colab": {
          "base_uri": "https://localhost:8080/"
        },
        "id": "-rNJrsI77HAD",
        "outputId": "c15afe50-d3c2-4e76-83ad-8cc9e4c103db"
      },
      "execution_count": 19,
      "outputs": [
        {
          "output_type": "stream",
          "name": "stdout",
          "text": [
            "ingrese el primer numero decimal:9\n",
            "ingrese el segundo numero decimal:9\n",
            "ingrese el tercer numero decimal:9\n",
            "ingrese el cuarto numero decimal:9\n",
            " \n",
            "esto (A > B y B > D) es  False\n",
            " \n",
            "esto (B <= C o C < D) es True\n",
            " \n",
            " esto (A = B y B > C) es False\n",
            " \n",
            "esto (A < C o B < C) es False\n",
            " \n",
            " esto es (A + D < C y B > 5) es False\n",
            " \n",
            "esto (D - C >= -A * B) es True\n",
            " \n",
            " esto (D * C == 5 o C * A > 9) es True\n",
            " \n",
            "esto (A * B + C > -D * 10)es True\n",
            " \n"
          ]
        }
      ]
    },
    {
      "cell_type": "code",
      "source": [
        "8"
      ],
      "metadata": {
        "id": "jyX7IsGO_yEq"
      },
      "execution_count": null,
      "outputs": []
    }
  ]
}